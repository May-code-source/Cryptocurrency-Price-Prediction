{
 "cells": [
  {
   "cell_type": "code",
   "execution_count": 1,
   "metadata": {
    "collapsed": false
   },
   "outputs": [],
   "source": [
    "import pandas as pd\n",
    "import numpy as np\n",
    "from sklearn import preprocessing\n",
    "from sklearn.model_selection import train_test_split\n",
    "from sklearn.ensemble import RandomForestRegressor\n",
    "from sklearn.metrics import r2_score, mean_absolute_error, mean_squared_error\n",
    "from data_fetcher import Dataset\n",
    "from datetime import datetime\n",
    "import warnings\n",
    "import matplotlib.pyplot as plt\n",
    "warnings.filterwarnings('ignore')\n",
    "\n",
    "# List of symbols\n",
    "symbols = ['BTCUSDT', 'ETHUSDT', 'BNBUSDT', 'ADAUSDT', 'DOGEUSDT', 'DOTUSDT', 'XRPUSDT', 'LINKUSDT', 'LTCUSDT', 'BCHUSDT', 'UNIUSDT', 'MATICUSDT', 'SOLUSDT', 'VETUSDT', 'ETCUSDT', 'FILUSDT', 'THETAUSDT', 'XLMUSDT', 'TRXUSDT', 'EOSUSDT']\n",
    "\n",
    "\n",
    "# Load the cleaned data from the pickle file\n",
    "pred_copy = 'clean_crypto_data.pkl'"
   ]
  },
  {
   "cell_type": "code",
   "execution_count": 2,
   "metadata": {
    "collapsed": false
   },
   "outputs": [
    {
     "data": {
      "text/html": [
       "<div>\n",
       "<style scoped>\n",
       "    .dataframe tbody tr th:only-of-type {\n",
       "        vertical-align: middle;\n",
       "    }\n",
       "\n",
       "    .dataframe tbody tr th {\n",
       "        vertical-align: top;\n",
       "    }\n",
       "\n",
       "    .dataframe thead th {\n",
       "        text-align: right;\n",
       "    }\n",
       "</style>\n",
       "<table border=\"1\" class=\"dataframe\">\n",
       "  <thead>\n",
       "    <tr style=\"text-align: right;\">\n",
       "      <th></th>\n",
       "      <th>open</th>\n",
       "      <th>high</th>\n",
       "      <th>low</th>\n",
       "      <th>close</th>\n",
       "      <th>volume</th>\n",
       "      <th>symbol</th>\n",
       "      <th>t1</th>\n",
       "      <th>t7</th>\n",
       "      <th>t30</th>\n",
       "    </tr>\n",
       "    <tr>\n",
       "      <th>time</th>\n",
       "      <th></th>\n",
       "      <th></th>\n",
       "      <th></th>\n",
       "      <th></th>\n",
       "      <th></th>\n",
       "      <th></th>\n",
       "      <th></th>\n",
       "      <th></th>\n",
       "      <th></th>\n",
       "    </tr>\n",
       "  </thead>\n",
       "  <tbody>\n",
       "    <tr>\n",
       "      <th>2021-05-20</th>\n",
       "      <td>42849.78</td>\n",
       "      <td>43584.90</td>\n",
       "      <td>30000.00</td>\n",
       "      <td>36690.09</td>\n",
       "      <td>354347.243161</td>\n",
       "      <td>BTCUSDT</td>\n",
       "      <td>40526.64</td>\n",
       "      <td>39241.91</td>\n",
       "      <td>35819.84</td>\n",
       "    </tr>\n",
       "    <tr>\n",
       "      <th>2021-05-21</th>\n",
       "      <td>36671.23</td>\n",
       "      <td>42451.67</td>\n",
       "      <td>34850.00</td>\n",
       "      <td>40526.64</td>\n",
       "      <td>203017.596923</td>\n",
       "      <td>BTCUSDT</td>\n",
       "      <td>37252.01</td>\n",
       "      <td>38529.98</td>\n",
       "      <td>35483.72</td>\n",
       "    </tr>\n",
       "    <tr>\n",
       "      <th>2021-05-22</th>\n",
       "      <td>40525.39</td>\n",
       "      <td>42200.00</td>\n",
       "      <td>33488.00</td>\n",
       "      <td>37252.01</td>\n",
       "      <td>202100.888258</td>\n",
       "      <td>BTCUSDT</td>\n",
       "      <td>37449.73</td>\n",
       "      <td>35663.49</td>\n",
       "      <td>35600.16</td>\n",
       "    </tr>\n",
       "    <tr>\n",
       "      <th>2021-05-23</th>\n",
       "      <td>37263.35</td>\n",
       "      <td>38829.00</td>\n",
       "      <td>35200.62</td>\n",
       "      <td>37449.73</td>\n",
       "      <td>126542.243689</td>\n",
       "      <td>BTCUSDT</td>\n",
       "      <td>34655.25</td>\n",
       "      <td>34605.15</td>\n",
       "      <td>31608.93</td>\n",
       "    </tr>\n",
       "    <tr>\n",
       "      <th>2021-05-24</th>\n",
       "      <td>37458.51</td>\n",
       "      <td>38270.64</td>\n",
       "      <td>31111.01</td>\n",
       "      <td>34655.25</td>\n",
       "      <td>217136.046593</td>\n",
       "      <td>BTCUSDT</td>\n",
       "      <td>38796.29</td>\n",
       "      <td>35641.27</td>\n",
       "      <td>32509.56</td>\n",
       "    </tr>\n",
       "  </tbody>\n",
       "</table>\n",
       "</div>"
      ],
      "text/plain": [
       "                open      high       low     close         volume   symbol  \\\n",
       "time                                                                         \n",
       "2021-05-20  42849.78  43584.90  30000.00  36690.09  354347.243161  BTCUSDT   \n",
       "2021-05-21  36671.23  42451.67  34850.00  40526.64  203017.596923  BTCUSDT   \n",
       "2021-05-22  40525.39  42200.00  33488.00  37252.01  202100.888258  BTCUSDT   \n",
       "2021-05-23  37263.35  38829.00  35200.62  37449.73  126542.243689  BTCUSDT   \n",
       "2021-05-24  37458.51  38270.64  31111.01  34655.25  217136.046593  BTCUSDT   \n",
       "\n",
       "                  t1        t7       t30  \n",
       "time                                      \n",
       "2021-05-20  40526.64  39241.91  35819.84  \n",
       "2021-05-21  37252.01  38529.98  35483.72  \n",
       "2021-05-22  37449.73  35663.49  35600.16  \n",
       "2021-05-23  34655.25  34605.15  31608.93  \n",
       "2021-05-24  38796.29  35641.27  32509.56  "
      ]
     },
     "execution_count": 2,
     "metadata": {},
     "output_type": "execute_result"
    }
   ],
   "source": [
    "#Defining function for loading data\n",
    "def load_and_clean_data(pred_copy):\n",
    "    dt_df = pd.read_pickle(pred_copy)\n",
    "    dt_df = dt_df.drop(columns=[\"Name\"])\n",
    "    return dt_df\n",
    "\n",
    "#Defining function for creating features (future engineering)\n",
    "def create_features(dt_df, symbols):\n",
    "    pred_df = dt_df.copy()\n",
    "    one_day = []\n",
    "    seven_day = []\n",
    "    thirty_day = []\n",
    "    for i in symbols:\n",
    "        one_day.extend(pred_df[pred_df['symbol']==i].close.shift(-1))\n",
    "        seven_day.extend(pred_df[pred_df['symbol']==i].close.shift(-7))\n",
    "        thirty_day.extend(pred_df[pred_df['symbol']==i].close.shift(-30))\n",
    "\n",
    "    pred_df['t1'] = one_day\n",
    "    pred_df['t7'] = seven_day\n",
    "    pred_df['t30'] = thirty_day\n",
    "\n",
    "    pred_df.dropna(inplace=True)\n",
    "    return pred_df\n",
    "\n",
    "#Calling functions\n",
    "dt_df = load_and_clean_data(pred_copy)\n",
    "pred_df = create_features(dt_df, symbols)\n",
    "pred_df.head()"
   ]
  },
  {
   "cell_type": "code",
   "execution_count": 3,
   "metadata": {
    "collapsed": false
   },
   "outputs": [
    {
     "name": "stdout",
     "output_type": "stream",
     "text": [
      "                open      high      low        volume  symbol\n",
      "time                                                         \n",
      "2023-01-11  272.6000  278.8000  270.200  2.599386e+05       2\n",
      "2022-04-11  326.0000  332.4000  318.200  3.258391e+04       9\n",
      "2022-06-03    0.6000    0.6220    0.591  5.508419e+07      11\n",
      "2022-06-04    0.5872    0.6055    0.539  2.062579e+08       3\n",
      "2022-06-17    4.4300    4.4700    3.750  4.771731e+06      10\n",
      "                  t1         t7        t30\n",
      "time                                      \n",
      "2022-01-19  41660.01  36958.320  40515.700\n",
      "2022-03-04   2622.10   2606.700   3443.770\n",
      "2021-10-26    197.60    197.600    212.200\n",
      "2022-09-07      1.11      1.087      1.074\n",
      "2021-11-27     35.16     33.700     31.320\n"
     ]
    }
   ],
   "source": [
    "#Definning function for spltting into test and train\n",
    "def train_test_split_function(pred_df, symbols):\n",
    "    X = pred_df.drop(['close', 't1', 't7', 't30'], axis=1)\n",
    "    y = pred_df[['t1', 't7', 't30']]\n",
    "\n",
    "    # Map symbols to integers\n",
    "    symbol_mapping = {symbol: i for i, symbol in enumerate(symbols)}\n",
    "    X['symbol'] = X['symbol'].map(symbol_mapping)\n",
    "\n",
    "    X_train, X_test, y_train, y_test = train_test_split(X,y, train_size=0.7)\n",
    "    return X_train, X_test, y_train, y_test\n",
    "\n",
    "#Definning function for scaling\n",
    "def data_scaling(X_train, X_test):\n",
    "    scaler = preprocessing.MinMaxScaler(feature_range=(0,1))\n",
    "    X_train_scaled = scaler.fit_transform(X_train)\n",
    "    X_test_scaled = scaler.transform(X_test)\n",
    "    return X_train_scaled, X_test_scaled, scaler\n",
    "\n",
    "# Defining the symbol_mapping dictionary\n",
    "symbol_mapping = {symbol: i for i, symbol in enumerate(symbols)}\n",
    "\n",
    "X_train, X_test, y_train, y_test = train_test_split_function(pred_df, symbols)\n",
    "X_train_scaled, X_test_scaled, scaler = data_scaling(X_train, X_test)\n",
    "\n",
    "print(X_train.head())\n",
    "print(y_test.head())"
   ]
  },
  {
   "cell_type": "code",
   "execution_count": 4,
   "metadata": {
    "collapsed": false
   },
   "outputs": [
    {
     "data": {
      "text/plain": [
       "array([[4.16037940e-03, 4.11252954e-03, 4.21505046e-03, 1.44152548e-05,\n",
       "        1.05263158e-01],\n",
       "       [4.97540898e-03, 4.90321848e-03, 4.96388059e-03, 1.28861791e-06,\n",
       "        4.73684211e-01],\n",
       "       [8.91785832e-06, 8.94245587e-06, 8.98081338e-06, 3.17976965e-03,\n",
       "        5.78947368e-01],\n",
       "       ...,\n",
       "       [4.26416594e-03, 4.13760736e-03, 4.15420801e-03, 2.94669411e-05,\n",
       "        1.05263158e-01],\n",
       "       [1.13314906e-04, 1.11407481e-04, 1.12865394e-04, 4.54757638e-04,\n",
       "        2.63157895e-01],\n",
       "       [5.24106757e-06, 5.18225792e-06, 5.18986084e-06, 1.58489992e-02,\n",
       "        3.15789474e-01]])"
      ]
     },
     "execution_count": 4,
     "metadata": {},
     "output_type": "execute_result"
    }
   ],
   "source": [
    "X_train_scaled"
   ]
  },
  {
   "cell_type": "code",
   "execution_count": 5,
   "metadata": {
    "collapsed": false
   },
   "outputs": [],
   "source": [
    "#Definning function for training the model\n",
    "def model_training(X_train_scaled, y_train):\n",
    "    # Instantiate the random forest regressor object\n",
    "    regressor = RandomForestRegressor()\n",
    "    # Fit the regressor with X and Y data\n",
    "    regressor.fit(X_train_scaled, y_train)\n",
    "    return regressor"
   ]
  },
  {
   "cell_type": "code",
   "execution_count": 6,
   "metadata": {
    "collapsed": false
   },
   "outputs": [
    {
     "data": {
      "text/plain": [
       "array([[4.20943144e+04, 4.37855092e+04, 4.58927568e+04],\n",
       "       [2.95282310e+03, 3.13453030e+03, 3.32333200e+03],\n",
       "       [1.89178000e+02, 1.92659900e+02, 2.03708000e+02],\n",
       "       ...,\n",
       "       [2.90733700e+01, 3.11863500e+01, 3.18961100e+01],\n",
       "       [3.25442000e+01, 3.09563000e+01, 2.54378000e+01],\n",
       "       [3.94754600e+01, 3.63834100e+01, 3.24764700e+01]])"
      ]
     },
     "execution_count": 6,
     "metadata": {},
     "output_type": "execute_result"
    }
   ],
   "source": [
    "#Definning function to make prediction\n",
    "def model_prediction(regressor, X_test_scaled):\n",
    "    y_pred = regressor.predict(X_test_scaled)\n",
    "    return y_pred\n",
    "\n",
    "regressor = model_training(X_train_scaled, y_train)\n",
    "y_pred = model_prediction(regressor, X_test_scaled)\n",
    "y_pred"
   ]
  },
  {
   "cell_type": "code",
   "execution_count": 7,
   "metadata": {
    "collapsed": false
   },
   "outputs": [],
   "source": [
    "#Definning functions for calculating metrics\n",
    "def mean_absolute_percentage_error(y_true, y_pred):\n",
    "    y_true, y_pred = np.array(y_true), np.array(y_pred)\n",
    "    return np.mean(np.abs((y_true - y_pred) / y_true)) * 100\n",
    "\n",
    "def calculate_metrics(y_true, y_pred, dataset_type=\"Test\"):\n",
    "    y_pred_df = pd.DataFrame(y_pred, columns=['t1', 't7', 't30'])\n",
    "    print(f\"------- {dataset_type} Dataset Metrics -------\")\n",
    "    for horizon in ['t1', 't7', 't30']:\n",
    "        mape = mean_absolute_percentage_error(y_true[horizon], y_pred_df[horizon])\n",
    "        mae = mean_absolute_error(y_true[horizon], y_pred_df[horizon])\n",
    "        rmse = np.sqrt(mean_squared_error(y_true[horizon], y_pred_df[horizon]))\n",
    "        r2 = r2_score(y_true[horizon], y_pred_df[horizon])\n",
    "\n",
    "        print(f\"For {horizon} days:\")\n",
    "        print(f\"MAPE : {mape:.2f}\")\n",
    "        print(f\"MAE : {mae:.2f}\")\n",
    "        print(f\"RMSE : {rmse:.2f}\")\n",
    "        print(f\"R2 : {r2:.2f}\")\n",
    "        print()\n",
    "\n",
    "def calculate_general_metrics(y_true, y_pred, dataset_type=\"Test\"):\n",
    "    mape = mean_absolute_percentage_error(y_true, y_pred)\n",
    "    mae = mean_absolute_error(y_true, y_pred)\n",
    "    rmse = np.sqrt(mean_squared_error(y_true, y_pred))\n",
    "    r2 = r2_score(y_true, y_pred)\n",
    "\n",
    "    print(f\"------- {dataset_type} Dataset Overall Metrics -------\")\n",
    "    print(f\"MAPE : {mape:.2f}\")\n",
    "    print(f\"MAE : {mae:.2f}\")\n",
    "    print(f\"RMSE : {rmse:.2f}\")\n",
    "    print(f\"R2 : {r2:.2f}\")\n",
    "    print()"
   ]
  },
  {
   "cell_type": "code",
   "execution_count": 8,
   "metadata": {
    "collapsed": false
   },
   "outputs": [
    {
     "name": "stdout",
     "output_type": "stream",
     "text": [
      "------- Train Dataset Metrics -------\n",
      "For t1 days:\n",
      "MAPE : 1.83\n",
      "MAE : 23.30\n",
      "RMSE : 137.26\n",
      "R2 : 1.00\n",
      "\n",
      "For t7 days:\n",
      "MAPE : 3.71\n",
      "MAE : 48.72\n",
      "RMSE : 282.17\n",
      "R2 : 1.00\n",
      "\n",
      "For t30 days:\n",
      "MAPE : 6.33\n",
      "MAE : 86.62\n",
      "RMSE : 500.87\n",
      "R2 : 1.00\n",
      "\n",
      "------- Train Dataset Overall Metrics -------\n",
      "MAPE : 3.95\n",
      "MAE : 52.88\n",
      "RMSE : 341.24\n",
      "R2 : 1.00\n",
      "\n"
     ]
    }
   ],
   "source": [
    "# Train data prediction and metrics\n",
    "y_train_pred = model_prediction(regressor, X_train_scaled)\n",
    "calculate_metrics(y_train, y_train_pred, dataset_type=\"Train\")\n",
    "calculate_general_metrics(y_train, y_train_pred, dataset_type=\"Train\")"
   ]
  },
  {
   "cell_type": "code",
   "execution_count": 9,
   "metadata": {
    "collapsed": false
   },
   "outputs": [
    {
     "name": "stdout",
     "output_type": "stream",
     "text": [
      "------- Test Dataset Metrics -------\n",
      "For t1 days:\n",
      "MAPE : 5.11\n",
      "MAE : 56.20\n",
      "RMSE : 299.91\n",
      "R2 : 1.00\n",
      "\n",
      "For t7 days:\n",
      "MAPE : 9.99\n",
      "MAE : 117.51\n",
      "RMSE : 671.81\n",
      "R2 : 0.99\n",
      "\n",
      "For t30 days:\n",
      "MAPE : 17.49\n",
      "MAE : 221.78\n",
      "RMSE : 1242.84\n",
      "R2 : 0.97\n",
      "\n",
      "------- Test Dataset Overall Metrics -------\n",
      "MAPE : 10.86\n",
      "MAE : 131.83\n",
      "RMSE : 833.85\n",
      "R2 : 0.99\n",
      "\n"
     ]
    }
   ],
   "source": [
    "# Test data prediction and metrics\n",
    "y_test_pred = model_prediction(regressor, X_test_scaled)\n",
    "calculate_metrics(y_test, y_test_pred, dataset_type=\"Test\")\n",
    "calculate_general_metrics(y_test, y_test_pred, dataset_type=\"Test\")"
   ]
  },
  {
   "cell_type": "code",
   "execution_count": 10,
   "metadata": {
    "collapsed": false
   },
   "outputs": [],
   "source": [
    "def future_predictions():\n",
    "    # get current date\n",
    "    current_date = datetime.now()\n",
    "\n",
    "    # get the start of last year\n",
    "    start_of_last_year = datetime(current_date.year - 1, 1, 1)\n",
    "\n",
    "    # calculate the number of days since the start of last year\n",
    "    days_since_start_of_last_year = (current_date - start_of_last_year).days\n",
    "\n",
    "    #BTCUSDT Prediction\n",
    "    bt_coin = Dataset().get_data(ticker='BTCUSDT', days=days_since_start_of_last_year, ts='1d')\n",
    "\n",
    "    bt_coin= pd.DataFrame(bt_coin)\n",
    "    bt_coin['symbol'] = 'BTCUSDT'\n",
    "    bt_coin.reset_index()\n",
    "\n",
    "    bt_values = bt_coin.copy()\n",
    "    bt_values2 = bt_values.drop(['close'], axis=1)\n",
    "    bt_values2['symbol'] = bt_values2.symbol.map(symbol_mapping)\n",
    "    btc_scaled = X_test_scaled = scaler.transform(bt_values2)\n",
    "\n",
    "    bt_values[['t1', 't7', 't30']] = regressor.predict(X_test_scaled)\n",
    "    bt_values.tail()\n",
    "    return bt_values\n",
    "\n",
    "# def plot_future(bt_values):\n",
    "#     bt_values.t1.plot(figsize=(12,5), title=\"BTCUSDT Predicted Price for 30 Days\")\n",
    "#     plt.show()"
   ]
  },
  {
   "cell_type": "code",
   "execution_count": 11,
   "metadata": {
    "collapsed": false
   },
   "outputs": [],
   "source": [
    "# bt_values = future_predictions()\n",
    "# plot_future(bt_values)"
   ]
  },
  {
   "cell_type": "code",
   "execution_count": 12,
   "metadata": {
    "collapsed": false
   },
   "outputs": [],
   "source": [
    "def predict_smoothed(regressor, df, scaler, symbol_mapping, prediction_days=30, smooth_average=7):\n",
    "    # Get the current date\n",
    "    current_date = datetime.now()\n",
    "\n",
    "    # Prepare the dataset for prediction\n",
    "    df_copy = df.copy()\n",
    "    df_copy['symbol'] = df_copy.symbol.map(symbol_mapping)\n",
    "    df_scaled = scaler.transform(df_copy.drop(['close'], axis=1))\n",
    "\n",
    "    # Make the prediction and add it to the dataframe\n",
    "    df[['t1', 't7', 't30']] = regressor.predict(df_scaled)\n",
    "\n",
    "    # Smoothing the prediction with a rolling mean\n",
    "    df['plot_me'] = df[f't{prediction_days}'].rolling(smooth_average).mean()\n",
    "\n",
    "    # Creating a new dataframe for the predicted values\n",
    "    plot = df[-prediction_days:]['plot_me'].values\n",
    "    predicted_values = pd.DataFrame({'close': plot}, index=pd.date_range(str(df.tail(1).index.values[0]).split(\"T\")[0], periods=prediction_days, freq='D'))\n",
    "\n",
    "    # Concatenate the original data with the predicted values\n",
    "    recent_data = df[['close']]\n",
    "    recent_data.drop(recent_data.tail(1).index, inplace=True)\n",
    "    final_pred = pd.concat([recent_data, predicted_values], sort=False)\n",
    "\n",
    "    return final_pred"
   ]
  },
  {
   "cell_type": "code",
   "execution_count": 13,
   "metadata": {
    "collapsed": false
   },
   "outputs": [
    {
     "data": {
      "image/png": "[encoded data removed]",
      "text/plain": [
       "<Figure size 1500x600 with 1 Axes>"
      ]
     },
     "metadata": {},
     "output_type": "display_data"
    }
   ],
   "source": [
    "# Getting live data\n",
    "df = Dataset().get_data(ticker='BTCUSDT', days=(datetime.now() - datetime(datetime.now().year - 1, 1, 1)).days, ts='1d')\n",
    "df = pd.DataFrame(df)\n",
    "df['symbol'] = 'BTCUSDT'\n",
    "df.reset_index()\n",
    "\n",
    "# Usig the function to make a smoothed prediction\n",
    "final_pred = predict_smoothed(regressor, df, scaler, symbol_mapping)\n",
    "\n",
    "# Plot the result\n",
    "plt.figure(figsize=(15,6))\n",
    "plt.grid(True)\n",
    "plt.xlabel('Dates')\n",
    "plt.ylabel('closing Prices')\n",
    "plt.plot(final_pred[200:-29][['close']], 'green', label='Historical Price')\n",
    "plt.plot(final_pred[-30:][['close']], 'red', label='Future Price')\n",
    "plt.legend()\n",
    "plt.show()"
   ]
  },
  {
   "cell_type": "code",
   "execution_count": 14,
   "metadata": {
    "collapsed": false
   },
   "outputs": [
    {
     "data": {
      "text/plain": [
       "['joblib_model1.joblib']"
      ]
     },
     "execution_count": 14,
     "metadata": {},
     "output_type": "execute_result"
    }
   ],
   "source": [
    "from joblib import dump, load\n",
    "\n",
    "# saving model\n",
    "joblib_rForest = \"joblib_model1.joblib\"\n",
    "dump(regressor, joblib_rForest)"
   ]
  },
  {
   "cell_type": "code",
   "execution_count": 15,
   "metadata": {
    "collapsed": false
   },
   "outputs": [
    {
     "data": {
      "text/plain": [
       "['joblib_scaler1.joblib']"
      ]
     },
     "execution_count": 15,
     "metadata": {},
     "output_type": "execute_result"
    }
   ],
   "source": [
    "# Save to file in the current working directory\n",
    "joblib_scaler_rForest = \"joblib_scaler1.joblib\"\n",
    "dump(scaler, joblib_scaler_rForest)"
   ]
  }
 ],
 "metadata": {
  "kernelspec": {
   "display_name": "Python 3",
   "language": "python",
   "name": "python3"
  },
  "language_info": {
   "codemirror_mode": {
    "name": "ipython",
    "version": 2
   },
   "file_extension": ".py",
   "mimetype": "text/x-python",
   "name": "python",
   "nbconvert_exporter": "python",
   "pygments_lexer": "ipython2",
   "version": "2.7.6"
  }
 },
 "nbformat": 4,
 "nbformat_minor": 0
}
